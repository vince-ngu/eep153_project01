{
 "cells": [
  {
   "cell_type": "markdown",
   "id": "06883803-13e6-4f13-814f-c2535bcafea2",
   "metadata": {},
   "source": [
    "# Population Dataframe "
   ]
  },
  {
   "cell_type": "markdown",
   "id": "80a29b87-9379-452c-bdba-1e594e27471e",
   "metadata": {},
   "source": [
    "The code below includes a function that returns a pandas Dataframe indexed by Region, or Country and Year, with columns giving counts of people in different age-sex groups"
   ]
  },
  {
   "cell_type": "markdown",
   "id": "03ccb87c-abb0-437f-897b-e0cfe46db9a6",
   "metadata": {},
   "source": [
    "### Importing Packages"
   ]
  },
  {
   "cell_type": "code",
   "execution_count": null,
   "id": "25d64b76-da59-44c9-aa54-c2e9fa243f93",
   "metadata": {},
   "outputs": [],
   "source": [
    "%pip install wbdata\n",
    "%pip install pandas\n",
    "%pip install iso3166\n",
    "\n",
    "import wbdata\n",
    "import pandas as pd\n",
    "import math\n",
    "import iso3166"
   ]
  },
  {
   "cell_type": "markdown",
   "id": "ffe2d504-8f80-43e1-a690-7778449a69ed",
   "metadata": {},
   "source": [
    "All data is sources from the World Bank Data API. To access and explore data, you can use wbdata.get_topic(), wbdata.get_indicator or wbdata.get_source"
   ]
  },
  {
   "cell_type": "markdown",
   "id": "5b85d177-84a6-49e2-9b28-b82c01f37b21",
   "metadata": {},
   "source": [
    "For population estimates data, we need to access **Source 40:** "
   ]
  },
  {
   "cell_type": "code",
   "execution_count": 30,
   "id": "f6a02fc9-4aec-428a-91f3-85ffaafcc27e",
   "metadata": {},
   "outputs": [],
   "source": [
    "source_id = 40 #Population Estimates and Projections"
   ]
  },
  {
   "cell_type": "markdown",
   "id": "67a02845-6fc7-4627-a36b-938b56b307ed",
   "metadata": {},
   "source": [
    "Now, we can define a function that will allow us to create a dataframe indexed by country, year, age group and sex "
   ]
  },
  {
   "cell_type": "markdown",
   "id": "f30a73c9-4e3a-4ee5-bf3d-622f36e6e245",
   "metadata": {},
   "source": [
    "the population ranges from the data set include :00-04, 05-09, 10-14, 15-19, 20-24, 25-29, 30-34, ..., 70-74 "
   ]
  },
  {
   "cell_type": "code",
   "execution_count": 20,
   "id": "354c2a5d-fa40-4e1e-8cbd-e27402ef2838",
   "metadata": {},
   "outputs": [],
   "source": [
    "def pop_df(year='2023', group='all', age_lower=0, age_upper=100, location='world'):\n",
    "    df = pop_df_helper(year, age_lower, age_upper, location)\n",
    "\n",
    "    #Creates distinct columns grouped by sex      \n",
    "    if group == 'males':\n",
    "        return df.drop(columns = ['Female'])\n",
    "    elif group == 'females':\n",
    "        return df.drop(columns = ['Male'])\n",
    "    else:\n",
    "        total_pop = df[\"Female\"] + df[\"Male\"]\n",
    "        df[\"Total\"] = total_pop\n",
    "    return df\n",
    "\n",
    "# Returns a list of input strings for population age ranges\n",
    "def pop_df_helper(year, age_lower, age_upper, location):\n",
    "    if location != 'world':\n",
    "        country_alpha3 = iso3166.countries.get(location).alpha3\n",
    "        country_name = iso3166.countries.get(location).apolitical_name\n",
    "    else:\n",
    "        country_alpha3 = 'WLD'\n",
    "        country_name = 'World'\n",
    "    inputs = list_of_age_inputs(age_lower, age_upper)\n",
    "\n",
    "    #create indicator dictionaries required for the dataset's API\n",
    "    indicator_dict_m = {}\n",
    "    indicator_dict_f = {}\n",
    "    for i in inputs:\n",
    "        key_m = \"SP.POP.{}.{}\".format(i, 'MA')\n",
    "        key_f = \"SP.POP.{}.{}\".format(i, 'FE')\n",
    "        value = \"{}-{}\".format(i[:2], i[2:])\n",
    "        indicator_dict_m[key_m] = value\n",
    "        indicator_dict_f[key_f] = value\n",
    "\n",
    "    source_id = 40\n",
    "    wbdf_m = wbdata.get_dataframe(indicator_dict_m, country=country_alpha3, source=source_id)\n",
    "    wbdf_f = wbdata.get_dataframe(indicator_dict_f, country=country_alpha3, source=source_id)\n",
    "    datas_m = wbdf_m.query(\"date=='{}'\".format(year)).sum(axis=0).tolist()\n",
    "    datas_f = wbdf_f.query(\"date=='{}'\".format(year)).sum(axis=0).tolist()\n",
    "    df = pd.DataFrame({\n",
    "        'Country': country_name,\n",
    "        'Year': year,\n",
    "        'Age': list(indicator_dict_m.values()),\n",
    "        'Female': datas_f,\n",
    "        'Male': datas_m\n",
    "    })\n",
    "    return df\n",
    "\n",
    "# Returns a list of input strings for population age ranges\n",
    "def list_of_age_inputs(age_lower, age_upper):\n",
    "    def round_down(n):\n",
    "        return max(0, n - n % 5)\n",
    "\n",
    "    def round_up(n):\n",
    "        return n - n % 5 + 5\n",
    "\n",
    "    results = []\n",
    "    r_lower_bound, r_upper_bound = round_down(age_lower), round_up(age_upper)   \n",
    "    while r_lower_bound < min(79, r_upper_bound):\n",
    "        results.append(\"{:02d}{:02d}\".format(r_lower_bound, r_lower_bound + 4))\n",
    "        r_lower_bound += 5\n",
    "    if age_upper >= 80:\n",
    "        results.append('80UP')\n",
    "    return results"
   ]
  },
  {
   "cell_type": "markdown",
   "id": "0f3882a3-6975-4964-9ef3-1688feb8d2be",
   "metadata": {},
   "source": [
    "## Example call"
   ]
  },
  {
   "cell_type": "code",
   "execution_count": 32,
   "id": "ce1b990c-8e4b-45fb-a24b-199c05e22ee2",
   "metadata": {},
   "outputs": [],
   "source": [
    "year = 2017 #1960 to 2050 (projections)\n",
    "group = 'all' #males/females/all\n",
    "age_lower = 13 #rounds to nearest 5 (actual range: 10 to 65)\n",
    "age_upper = 61\n",
    "location = 'bangladesh' #accepts country names/abbreviations, 'world"
   ]
  },
  {
   "cell_type": "code",
   "execution_count": 33,
   "id": "a8f72a1c-1056-40be-9661-fb139c50721b",
   "metadata": {},
   "outputs": [
    {
     "data": {
      "text/html": [
       "<div>\n",
       "<style scoped>\n",
       "    .dataframe tbody tr th:only-of-type {\n",
       "        vertical-align: middle;\n",
       "    }\n",
       "\n",
       "    .dataframe tbody tr th {\n",
       "        vertical-align: top;\n",
       "    }\n",
       "\n",
       "    .dataframe thead th {\n",
       "        text-align: right;\n",
       "    }\n",
       "</style>\n",
       "<table border=\"1\" class=\"dataframe\">\n",
       "  <thead>\n",
       "    <tr style=\"text-align: right;\">\n",
       "      <th></th>\n",
       "      <th>Country</th>\n",
       "      <th>Year</th>\n",
       "      <th>Age</th>\n",
       "      <th>Female</th>\n",
       "      <th>Male</th>\n",
       "      <th>Total</th>\n",
       "    </tr>\n",
       "  </thead>\n",
       "  <tbody>\n",
       "    <tr>\n",
       "      <th>0</th>\n",
       "      <td>Bangladesh</td>\n",
       "      <td>2017</td>\n",
       "      <td>10-14</td>\n",
       "      <td>8225272.0</td>\n",
       "      <td>8483492.0</td>\n",
       "      <td>16708764.0</td>\n",
       "    </tr>\n",
       "    <tr>\n",
       "      <th>1</th>\n",
       "      <td>Bangladesh</td>\n",
       "      <td>2017</td>\n",
       "      <td>15-19</td>\n",
       "      <td>8211225.0</td>\n",
       "      <td>8447567.0</td>\n",
       "      <td>16658792.0</td>\n",
       "    </tr>\n",
       "    <tr>\n",
       "      <th>2</th>\n",
       "      <td>Bangladesh</td>\n",
       "      <td>2017</td>\n",
       "      <td>20-24</td>\n",
       "      <td>7591111.0</td>\n",
       "      <td>7723966.0</td>\n",
       "      <td>15315077.0</td>\n",
       "    </tr>\n",
       "    <tr>\n",
       "      <th>3</th>\n",
       "      <td>Bangladesh</td>\n",
       "      <td>2017</td>\n",
       "      <td>25-29</td>\n",
       "      <td>7149808.0</td>\n",
       "      <td>7148678.0</td>\n",
       "      <td>14298486.0</td>\n",
       "    </tr>\n",
       "    <tr>\n",
       "      <th>4</th>\n",
       "      <td>Bangladesh</td>\n",
       "      <td>2017</td>\n",
       "      <td>30-34</td>\n",
       "      <td>6663791.0</td>\n",
       "      <td>6318060.0</td>\n",
       "      <td>12981851.0</td>\n",
       "    </tr>\n",
       "    <tr>\n",
       "      <th>5</th>\n",
       "      <td>Bangladesh</td>\n",
       "      <td>2017</td>\n",
       "      <td>35-39</td>\n",
       "      <td>6026943.0</td>\n",
       "      <td>5472318.0</td>\n",
       "      <td>11499261.0</td>\n",
       "    </tr>\n",
       "    <tr>\n",
       "      <th>6</th>\n",
       "      <td>Bangladesh</td>\n",
       "      <td>2017</td>\n",
       "      <td>40-44</td>\n",
       "      <td>5263200.0</td>\n",
       "      <td>4749203.0</td>\n",
       "      <td>10012403.0</td>\n",
       "    </tr>\n",
       "    <tr>\n",
       "      <th>7</th>\n",
       "      <td>Bangladesh</td>\n",
       "      <td>2017</td>\n",
       "      <td>45-49</td>\n",
       "      <td>4437729.0</td>\n",
       "      <td>4192227.0</td>\n",
       "      <td>8629956.0</td>\n",
       "    </tr>\n",
       "    <tr>\n",
       "      <th>8</th>\n",
       "      <td>Bangladesh</td>\n",
       "      <td>2017</td>\n",
       "      <td>50-54</td>\n",
       "      <td>3491474.0</td>\n",
       "      <td>3445787.0</td>\n",
       "      <td>6937261.0</td>\n",
       "    </tr>\n",
       "    <tr>\n",
       "      <th>9</th>\n",
       "      <td>Bangladesh</td>\n",
       "      <td>2017</td>\n",
       "      <td>55-59</td>\n",
       "      <td>3005996.0</td>\n",
       "      <td>2862495.0</td>\n",
       "      <td>5868491.0</td>\n",
       "    </tr>\n",
       "    <tr>\n",
       "      <th>10</th>\n",
       "      <td>Bangladesh</td>\n",
       "      <td>2017</td>\n",
       "      <td>60-64</td>\n",
       "      <td>2431662.0</td>\n",
       "      <td>2308453.0</td>\n",
       "      <td>4740115.0</td>\n",
       "    </tr>\n",
       "  </tbody>\n",
       "</table>\n",
       "</div>"
      ],
      "text/plain": [
       "       Country  Year    Age     Female       Male       Total\n",
       "0   Bangladesh  2017  10-14  8225272.0  8483492.0  16708764.0\n",
       "1   Bangladesh  2017  15-19  8211225.0  8447567.0  16658792.0\n",
       "2   Bangladesh  2017  20-24  7591111.0  7723966.0  15315077.0\n",
       "3   Bangladesh  2017  25-29  7149808.0  7148678.0  14298486.0\n",
       "4   Bangladesh  2017  30-34  6663791.0  6318060.0  12981851.0\n",
       "5   Bangladesh  2017  35-39  6026943.0  5472318.0  11499261.0\n",
       "6   Bangladesh  2017  40-44  5263200.0  4749203.0  10012403.0\n",
       "7   Bangladesh  2017  45-49  4437729.0  4192227.0   8629956.0\n",
       "8   Bangladesh  2017  50-54  3491474.0  3445787.0   6937261.0\n",
       "9   Bangladesh  2017  55-59  3005996.0  2862495.0   5868491.0\n",
       "10  Bangladesh  2017  60-64  2431662.0  2308453.0   4740115.0"
      ]
     },
     "execution_count": 33,
     "metadata": {},
     "output_type": "execute_result"
    }
   ],
   "source": [
    "df = pop_df(year, group, age_lower, age_upper, location)\n",
    "df"
   ]
  },
  {
   "cell_type": "code",
   "execution_count": null,
   "id": "ad8ad631-3b12-4673-a740-8adfbcc1848a",
   "metadata": {},
   "outputs": [],
   "source": []
  },
  {
   "cell_type": "code",
   "execution_count": null,
   "id": "61e4ef1d-a9bb-4310-8c20-54df6b8f1d70",
   "metadata": {},
   "outputs": [],
   "source": []
  },
  {
   "cell_type": "code",
   "execution_count": null,
   "id": "4ccde311-b1ed-44e0-8712-9da363a29303",
   "metadata": {},
   "outputs": [],
   "source": []
  },
  {
   "cell_type": "code",
   "execution_count": null,
   "id": "19ab3b9d-afc7-4d5d-84e7-e1f73e6ca238",
   "metadata": {},
   "outputs": [],
   "source": []
  },
  {
   "cell_type": "code",
   "execution_count": null,
   "id": "57bb9189-f1fb-4e0c-86d8-e2dcd6082539",
   "metadata": {},
   "outputs": [],
   "source": []
  }
 ],
 "metadata": {
  "kernelspec": {
   "display_name": "Python 3 (ipykernel)",
   "language": "python",
   "name": "python3"
  },
  "language_info": {
   "codemirror_mode": {
    "name": "ipython",
    "version": 3
   },
   "file_extension": ".py",
   "mimetype": "text/x-python",
   "name": "python",
   "nbconvert_exporter": "python",
   "pygments_lexer": "ipython3",
   "version": "3.9.15"
  }
 },
 "nbformat": 4,
 "nbformat_minor": 5
}
