{
 "cells": [
  {
   "cell_type": "markdown",
   "id": "47d74f35-b8ea-4293-a678-c99dc9a701ef",
   "metadata": {},
   "source": [
    "# Population Statistics"
   ]
  },
  {
   "cell_type": "code",
   "execution_count": 11,
   "id": "a64defe7-d319-426f-8728-e1b3f4b1d920",
   "metadata": {},
   "outputs": [],
   "source": [
    "### Imports"
   ]
  },
  {
   "cell_type": "code",
   "execution_count": 34,
   "id": "ecc2a376-7dbd-44da-9c87-646f8affff33",
   "metadata": {},
   "outputs": [
    {
     "name": "stdout",
     "output_type": "stream",
     "text": [
      "Requirement already satisfied: wbdata in /srv/conda/lib/python3.9/site-packages (0.3.0)\n",
      "Requirement already satisfied: decorator>=4.0 in /srv/conda/lib/python3.9/site-packages (from wbdata) (5.0.9)\n",
      "Requirement already satisfied: requests>=2.0 in /srv/conda/lib/python3.9/site-packages (from wbdata) (2.31.0)\n",
      "Requirement already satisfied: tabulate>=0.8.5 in /srv/conda/lib/python3.9/site-packages (from wbdata) (0.9.0)\n",
      "Requirement already satisfied: appdirs<2.0,>=1.4 in /srv/conda/lib/python3.9/site-packages (from wbdata) (1.4.4)\n",
      "Requirement already satisfied: urllib3<3,>=1.21.1 in /srv/conda/lib/python3.9/site-packages (from requests>=2.0->wbdata) (1.26.15)\n",
      "Requirement already satisfied: charset-normalizer<4,>=2 in /srv/conda/lib/python3.9/site-packages (from requests>=2.0->wbdata) (3.1.0)\n",
      "Requirement already satisfied: idna<4,>=2.5 in /srv/conda/lib/python3.9/site-packages (from requests>=2.0->wbdata) (3.4)\n",
      "Requirement already satisfied: certifi>=2017.4.17 in /srv/conda/lib/python3.9/site-packages (from requests>=2.0->wbdata) (2022.12.7)\n",
      "Note: you may need to restart the kernel to use updated packages.\n",
      "Requirement already satisfied: pandas in /srv/conda/lib/python3.9/site-packages (1.3.5)\n",
      "Requirement already satisfied: python-dateutil>=2.7.3 in /srv/conda/lib/python3.9/site-packages (from pandas) (2.8.2)\n",
      "Requirement already satisfied: pytz>=2017.3 in /srv/conda/lib/python3.9/site-packages (from pandas) (2023.3.post1)\n",
      "Requirement already satisfied: numpy>=1.17.3 in /srv/conda/lib/python3.9/site-packages (from pandas) (1.22.4)\n",
      "Requirement already satisfied: six>=1.5 in /srv/conda/lib/python3.9/site-packages (from python-dateutil>=2.7.3->pandas) (1.16.0)\n",
      "Note: you may need to restart the kernel to use updated packages.\n",
      "Requirement already satisfied: iso3166 in /srv/conda/lib/python3.9/site-packages (2.1.1)\n",
      "Note: you may need to restart the kernel to use updated packages.\n"
     ]
    }
   ],
   "source": [
    "%pip install wbdata\n",
    "%pip install pandas\n",
    "%pip install iso3166\n",
    "\n",
    "import wbdata\n",
    "import pandas\n",
    "import math\n",
    "import iso3166"
   ]
  },
  {
   "cell_type": "code",
   "execution_count": 7,
   "id": "62535f5e-f57b-4adb-acd0-252b0b019c7f",
   "metadata": {},
   "outputs": [],
   "source": [
    "## Topic Selection"
   ]
  },
  {
   "cell_type": "code",
   "execution_count": 25,
   "id": "f178fa36-5d8b-4bbf-9f14-bf14e2ebdd0a",
   "metadata": {},
   "outputs": [
    {
     "data": {
      "text/html": [
       "<div>\n",
       "<style scoped>\n",
       "    .dataframe tbody tr th:only-of-type {\n",
       "        vertical-align: middle;\n",
       "    }\n",
       "\n",
       "    .dataframe tbody tr th {\n",
       "        vertical-align: top;\n",
       "    }\n",
       "\n",
       "    .dataframe thead th {\n",
       "        text-align: right;\n",
       "    }\n",
       "</style>\n",
       "<table border=\"1\" class=\"dataframe\">\n",
       "  <thead>\n",
       "    <tr style=\"text-align: right;\">\n",
       "      <th></th>\n",
       "      <th>country</th>\n",
       "      <th>date</th>\n",
       "      <th>Internally displaced persons, new displacement associated with disasters (number of cases)</th>\n",
       "    </tr>\n",
       "  </thead>\n",
       "  <tbody>\n",
       "    <tr>\n",
       "      <th>541</th>\n",
       "      <td>World</td>\n",
       "      <td>2022</td>\n",
       "      <td>32533018.0</td>\n",
       "    </tr>\n",
       "    <tr>\n",
       "      <th>320</th>\n",
       "      <td>Low &amp; middle income</td>\n",
       "      <td>2022</td>\n",
       "      <td>31585676.0</td>\n",
       "    </tr>\n",
       "    <tr>\n",
       "      <th>186</th>\n",
       "      <td>IDA &amp; IBRD total</td>\n",
       "      <td>2022</td>\n",
       "      <td>31511406.0</td>\n",
       "    </tr>\n",
       "    <tr>\n",
       "      <th>383</th>\n",
       "      <td>Middle income</td>\n",
       "      <td>2022</td>\n",
       "      <td>26735476.0</td>\n",
       "    </tr>\n",
       "    <tr>\n",
       "      <th>348</th>\n",
       "      <td>Lower middle income</td>\n",
       "      <td>2022</td>\n",
       "      <td>21218356.0</td>\n",
       "    </tr>\n",
       "  </tbody>\n",
       "</table>\n",
       "</div>"
      ],
      "text/plain": [
       "                 country  date  \\\n",
       "541                World  2022   \n",
       "320  Low & middle income  2022   \n",
       "186     IDA & IBRD total  2022   \n",
       "383        Middle income  2022   \n",
       "348  Lower middle income  2022   \n",
       "\n",
       "     Internally displaced persons, new displacement associated with disasters (number of cases)  \n",
       "541                                         32533018.0                                           \n",
       "320                                         31585676.0                                           \n",
       "186                                         31511406.0                                           \n",
       "383                                         26735476.0                                           \n",
       "348                                         21218356.0                                           "
      ]
     },
     "execution_count": 25,
     "metadata": {},
     "output_type": "execute_result"
    }
   ],
   "source": [
    "# Returns the number of displaced people given the country/region\n",
    "# This allows us to access any listed country/region within wbdata and see the number of people displaced between certain years\n",
    "# **IMPORTANT: Some countries didn't track certain years, so a timeframe that matches most countries is required (eg. 2008-2017)**\n",
    "\n",
    "population_displaced = wbdata.get_indicator(source=2) # World Development Indicators\n",
    "variable = {\"VC.IDP.NWDS\": \"Internally displaced persons, new displacement associated with disasters (number of cases)\"} #SOURCE\n",
    "\n",
    "dataframe = wbdata.get_dataframe(variable) # Creates dataframe\n",
    "cleaned_df = dataframe.dropna() # Drops NaN values\n",
    "\n",
    "df_index = cleaned_df.reset_index() # DF is in multi-indexed format; this resets the index to be more easily accessed\n",
    "filtered_df = df_index[df_index['date'] == \"2022\"] # Select location\n",
    " \n",
    "filtered_df.sort_values(by='Internally displaced persons, new displacement associated with disasters (number of cases)', ascending=False).head(5)"
   ]
  },
  {
   "cell_type": "code",
   "execution_count": 29,
   "id": "8c2e212e-c15c-4b4e-81f4-1e2f15bbd03e",
   "metadata": {},
   "outputs": [
    {
     "name": "stdout",
     "output_type": "stream",
     "text": [
      "   date  World Population\n",
      "0  2022      7.950947e+09\n"
     ]
    }
   ],
   "source": [
    "# Returns the population size of a given country\n",
    "# SOURCE = 40; Population estimates and projections\n",
    "\n",
    "world_population = {\"SP.POP.TOTL\":\"World Population\"}\n",
    "female_population = {\"SP.POP.TOTL.FE.IN\": \"Population, female\"}\n",
    "male_population = {\"SP.POP.TOTL.MA.IN\":\"Population, male\"}\n",
    "\n",
    "total_count = wbdata.get_dataframe(world_population, country=\"WLD\") #\"WLD\" will be replaced with the given country ID as a parameter\n",
    "male_count = wbdata.get_dataframe(male_population, country=\"WLD\")\n",
    "female_count = wbdata.get_dataframe(female_population, country=\"WLD\")\n",
    "\n",
    "new = total_count.reset_index()\n",
    "filtered = new[new['date'] == '2022']\n",
    "\n",
    "print(filtered)\n",
    "\n"
   ]
  },
  {
   "cell_type": "code",
   "execution_count": 53,
   "id": "e48cd946-012e-4b0e-a562-9367667e00a2",
   "metadata": {},
   "outputs": [
    {
     "name": "stdout",
     "output_type": "stream",
     "text": [
      "this is the year: 1966, the sex: MA, wbdata frame: ['SP.POP.1519.MA', 'SP.POP.2024.MA', 'SP.POP.2529.MA', 'SP.POP.3034.MA', 'SP.POP.3539.MA', 'SP.POP.4044.MA', 'SP.POP.4549.MA', 'SP.POP.5054.MA', 'SP.POP.5559.MA', 'SP.POP.6064.MA', 'SP.POP.6569.MA', 'SP.POP.7074.MA', 'SP.POP.7579.MA', 'SP.POP.80UP.MA'], and alpha3 name: USA\n"
     ]
    }
   ],
   "source": [
    "def population(year, sex, age_range, location):\n",
    "    \n",
    "    # Changes location into valid alpha3 country code\n",
    "    alpha3_name = iso3166.countries.get(location).alpha3\n",
    "    \n",
    "    def age_helper(age_range):\n",
    "\n",
    "        range = []\n",
    "\n",
    "        # Rounds age up/down to fit within the age range of datasets\n",
    "        lower_bound = 5 * math.floor(min(age_range)/5)\n",
    "        upper_bound = 5 * round(max(age_range)/5)\n",
    "        \n",
    "        # Loops for every dataframe that contains lower_bound and lower_bound + 4 (example: {\"6064\"})\n",
    "        while lower_bound < min(79, upper_bound + 1):\n",
    "            range.append(\"{:02}{:02}\".format(lower_bound, lower_bound + 4))\n",
    "            lower_bound += 5\n",
    "\n",
    "        # Adds the ID \"80UP\" to range when the upper_bound is greater than 80\n",
    "        if upper_bound >= 80:\n",
    "            range.append(\"80UP\")\n",
    "\n",
    "        return range\n",
    "        \n",
    "    # Filters sex parameter into a specific ID to access\n",
    "    if sex == \"male\" or \"Male\":\n",
    "        sex = \"MA\"\n",
    "    elif sex == \"female\" or \"Female\":\n",
    "        sex = \"FE\"\n",
    "    else:\n",
    "        print(\"Please enter 'Male' or 'Female'\")\n",
    "        \n",
    "    newLst = []\n",
    "    for i in age_helper(age_range):\n",
    "        df_input = \"SP.POP.{}.{}\".format(i, sex)\n",
    "        newLst.append(df_input)\n",
    "        \n",
    "    final = \"this is the year: {}, the sex: {}, wbdata frame: {}, and alpha3 name: {}\".format(year, sex, newLst, alpha3_name)\n",
    "    print(final)\n",
    "\n",
    "population(1966, \"Male\", (18,426), \"USA\")"
   ]
  },
  {
   "cell_type": "code",
   "execution_count": null,
   "id": "fbc6adb7-0a3f-4198-ae5f-8fb032ac4b9a",
   "metadata": {},
   "outputs": [],
   "source": []
  }
 ],
 "metadata": {
  "kernelspec": {
   "display_name": "Python 3 (ipykernel)",
   "language": "python",
   "name": "python3"
  },
  "language_info": {
   "codemirror_mode": {
    "name": "ipython",
    "version": 3
   },
   "file_extension": ".py",
   "mimetype": "text/x-python",
   "name": "python",
   "nbconvert_exporter": "python",
   "pygments_lexer": "ipython3",
   "version": "3.9.15"
  }
 },
 "nbformat": 4,
 "nbformat_minor": 5
}
