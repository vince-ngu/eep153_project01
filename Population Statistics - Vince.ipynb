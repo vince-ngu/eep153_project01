{
 "cells": [
  {
   "cell_type": "markdown",
   "id": "47d74f35-b8ea-4293-a678-c99dc9a701ef",
   "metadata": {},
   "source": [
    "# Population Statistics"
   ]
  },
  {
   "cell_type": "markdown",
   "id": "6cb46762-d091-4c1e-ad77-56826c77f781",
   "metadata": {},
   "source": [
    "## Imports"
   ]
  },
  {
   "cell_type": "markdown",
   "id": "f4d2e818-e9e6-48d0-b43b-7365fc24583a",
   "metadata": {},
   "source": [
    "The following imports are required for the function to execute data retreival!"
   ]
  },
  {
   "cell_type": "code",
   "execution_count": 67,
   "id": "ecc2a376-7dbd-44da-9c87-646f8affff33",
   "metadata": {},
   "outputs": [
    {
     "name": "stdout",
     "output_type": "stream",
     "text": [
      "Requirement already satisfied: wbdata in /srv/conda/lib/python3.9/site-packages (1.0.0)\n",
      "Requirement already satisfied: dateparser<2.0.0,>=1.2.0 in /srv/conda/lib/python3.9/site-packages (from wbdata) (1.2.0)\n",
      "Requirement already satisfied: tabulate<0.9.0,>=0.8.5 in /srv/conda/lib/python3.9/site-packages (from wbdata) (0.8.10)\n",
      "Requirement already satisfied: cachetools<6.0.0,>=5.3.2 in /srv/conda/lib/python3.9/site-packages (from wbdata) (5.3.2)\n",
      "Requirement already satisfied: shelved-cache<0.4.0,>=0.3.1 in /srv/conda/lib/python3.9/site-packages (from wbdata) (0.3.1)\n",
      "Requirement already satisfied: requests<3.0,>=2.0 in /srv/conda/lib/python3.9/site-packages (from wbdata) (2.31.0)\n",
      "Requirement already satisfied: decorator<6.0.0,>=5.1.1 in /srv/conda/lib/python3.9/site-packages (from wbdata) (5.1.1)\n",
      "Requirement already satisfied: backoff<3.0.0,>=2.2.1 in /srv/conda/lib/python3.9/site-packages (from wbdata) (2.2.1)\n",
      "Requirement already satisfied: appdirs<2.0,>=1.4 in /srv/conda/lib/python3.9/site-packages (from wbdata) (1.4.4)\n",
      "Requirement already satisfied: regex!=2019.02.19,!=2021.8.27 in /srv/conda/lib/python3.9/site-packages (from dateparser<2.0.0,>=1.2.0->wbdata) (2023.12.25)\n",
      "Requirement already satisfied: tzlocal in /srv/conda/lib/python3.9/site-packages (from dateparser<2.0.0,>=1.2.0->wbdata) (5.2)\n",
      "Requirement already satisfied: python-dateutil in /srv/conda/lib/python3.9/site-packages (from dateparser<2.0.0,>=1.2.0->wbdata) (2.8.2)\n",
      "Requirement already satisfied: pytz in /srv/conda/lib/python3.9/site-packages (from dateparser<2.0.0,>=1.2.0->wbdata) (2023.4)\n",
      "Requirement already satisfied: charset-normalizer<4,>=2 in /srv/conda/lib/python3.9/site-packages (from requests<3.0,>=2.0->wbdata) (3.1.0)\n",
      "Requirement already satisfied: urllib3<3,>=1.21.1 in /srv/conda/lib/python3.9/site-packages (from requests<3.0,>=2.0->wbdata) (1.26.15)\n",
      "Requirement already satisfied: certifi>=2017.4.17 in /srv/conda/lib/python3.9/site-packages (from requests<3.0,>=2.0->wbdata) (2022.12.7)\n",
      "Requirement already satisfied: idna<4,>=2.5 in /srv/conda/lib/python3.9/site-packages (from requests<3.0,>=2.0->wbdata) (3.4)\n",
      "Requirement already satisfied: six>=1.5 in /srv/conda/lib/python3.9/site-packages (from python-dateutil->dateparser<2.0.0,>=1.2.0->wbdata) (1.16.0)\n",
      "Note: you may need to restart the kernel to use updated packages.\n",
      "Requirement already satisfied: pandas in /srv/conda/lib/python3.9/site-packages (1.3.5)\n",
      "Requirement already satisfied: python-dateutil>=2.7.3 in /srv/conda/lib/python3.9/site-packages (from pandas) (2.8.2)\n",
      "Requirement already satisfied: pytz>=2017.3 in /srv/conda/lib/python3.9/site-packages (from pandas) (2023.4)\n",
      "Requirement already satisfied: numpy>=1.17.3 in /srv/conda/lib/python3.9/site-packages (from pandas) (1.22.4)\n",
      "Requirement already satisfied: six>=1.5 in /srv/conda/lib/python3.9/site-packages (from python-dateutil>=2.7.3->pandas) (1.16.0)\n",
      "Note: you may need to restart the kernel to use updated packages.\n",
      "Requirement already satisfied: iso3166 in /srv/conda/lib/python3.9/site-packages (2.1.1)\n",
      "Note: you may need to restart the kernel to use updated packages.\n"
     ]
    }
   ],
   "source": [
    "%pip install wbdata\n",
    "%pip install pandas\n",
    "%pip install iso3166\n",
    "\n",
    "import wbdata\n",
    "import pandas as pd\n",
    "import math\n",
    "import iso3166"
   ]
  },
  {
   "cell_type": "markdown",
   "id": "577aa041-c9ed-4b27-95c6-b14798c5d8f2",
   "metadata": {},
   "source": [
    "## Population Statistics Function"
   ]
  },
  {
   "cell_type": "markdown",
   "id": "7f807f08-99af-493d-bc7f-5a9b94bfe7b7",
   "metadata": {},
   "source": [
    "Given any year, sex, age range, and country, the following function will retrieve the necessary data and display it as a pandas dataframe.\n",
    "\n",
    "Calling the function should be something like: **population(year, sex, age_range, location)**\n",
    "\n",
    "Thought process of how the function works is commented"
   ]
  },
  {
   "cell_type": "code",
   "execution_count": 194,
   "id": "e48cd946-012e-4b0e-a562-9367667e00a2",
   "metadata": {},
   "outputs": [
    {
     "name": "stdout",
     "output_type": "stream",
     "text": [
      "   Country  Year Age Range  Population\n",
      "0    China  2002     00-04  43912190.0\n",
      "1    China  2002     05-09  48413442.0\n",
      "2    China  2002     10-14  63435759.0\n",
      "3    China  2002     15-19  58533916.0\n",
      "4    China  2002     20-24  51100603.0\n",
      "5    China  2002     25-29  55383221.0\n",
      "6    China  2002     30-34  65505826.0\n",
      "7    China  2002     35-39  61719463.0\n",
      "8    China  2002     40-44  38781702.0\n",
      "9    China  2002     45-49  44581982.0\n",
      "10   China  2002     50-54  35131636.0\n",
      "11   China  2002     55-59  24567438.0\n",
      "12   China  2002     60-64  20733525.0\n",
      "13   China  2002     65-69  17669786.0\n",
      "14   China  2002     70-74  12487584.0\n",
      "15   China  2002     75-79   7704976.0\n",
      "16   China  2002     80-UP   5201959.0\n"
     ]
    },
    {
     "data": {
      "text/plain": [
       "654865008.0"
      ]
     },
     "execution_count": 194,
     "metadata": {},
     "output_type": "execute_result"
    }
   ],
   "source": [
    "def population(year, sex, age_range, location):\n",
    "\n",
    "    # Checks to see if location is World or WLD, otherwise, get alpha3 name and country name\n",
    "    if location.lower() == \"world\" or location.lower() == \"wld\":\n",
    "        alpha3_name = \"WLD\"\n",
    "        real_name = \"World\"\n",
    "    else:\n",
    "        alpha3_name = iso3166.countries.get(location).alpha3                        \n",
    "        real_name = iso3166.countries.get(location).apolitical_name\n",
    "\n",
    "    def age_helper(age_range):\n",
    "        \n",
    "        range = []\n",
    "        \n",
    "        # Rounds age up/down to fit within the age range of datasets\n",
    "        lower_bound = 5 * math.floor(min(age_range)/5)\n",
    "        upper_bound = 5 * round(max(age_range)/5)\n",
    "        \n",
    "        # Loops for every dataframe that contains lower_bound and lower_bound + 4 (example: {\"6064\"})\n",
    "        # The upper_bound + 1 counters the rounding down mechanism and ensures that the age ranges are within the dataframe\n",
    "        while lower_bound < min(79, upper_bound + 1):\n",
    "            range.append(\"{:02}{:02}\".format(lower_bound, lower_bound + 4))\n",
    "            lower_bound += 5\n",
    "\n",
    "        # Adds the ID \"80UP\" to range when the upper_bound is greater than 80\n",
    "        if upper_bound >= 80:\n",
    "            range.append(\"80UP\")\n",
    "\n",
    "        return range\n",
    "        \n",
    "    # Filters sex parameter into a specific ID to access\n",
    "    if sex.lower() == \"male\":\n",
    "        sex = \"MA\"\n",
    "    elif sex.lower() == \"female\":\n",
    "        sex = \"FE\"\n",
    "    else:\n",
    "        print(\"Please enter 'Male' or 'Female'\")\n",
    "        \n",
    "    indicatorLst = []\n",
    "    ageLst = []\n",
    "    keyLst = []\n",
    "    finalDt = {}\n",
    "    for i in age_helper(age_range):\n",
    "        df_input = \"SP.POP.{}.{}\".format(i, sex)\n",
    "        ageLst.append(\"{}-{}\".format(i[:2], i[2:]))\n",
    "        indicatorLst.append(df_input)\n",
    "\n",
    "    for age, indicator in zip(ageLst, indicatorLst):\n",
    "        if \"MA\" in indicator:\n",
    "            keyLst.append(\"Population ages {}, male\".format(age))\n",
    "        else:\n",
    "            keyLst.append(\"Population ages {}, female\".format(age))\n",
    "\n",
    "    for key, value in zip(indicatorLst, keyLst):\n",
    "        finalDt[key] = value\n",
    "\n",
    "    # Dataframe retrieval and compiles all indicators within finalDt given the year, age range, and population\n",
    "    wb_dataframe = wbdata.get_dataframe(finalDt, country=alpha3_name, source=40)\n",
    "    data = wb_dataframe.query(\"date=='{}'\".format(year)).sum(axis=0).tolist() # returns list of population for each year\n",
    "    total_population = sum(data) # calculates total population\n",
    "    final_dataframe = pd.DataFrame({'Country': real_name, 'Year': year, 'Age Range': ageLst, 'Population': data})\n",
    "\n",
    "    # I originally had the function return the dataframe before, but the unit testing required checking for accurate population assertion statements\n",
    "    print(final_dataframe)\n",
    "    return total_population\n",
    "\n",
    "population(year=2002, sex='Male', age_range=(0, 200), location='China')"
   ]
  },
  {
   "cell_type": "markdown",
   "id": "71123afd-2312-42b9-9add-116d441d790f",
   "metadata": {},
   "source": [
    "## Unit Test"
   ]
  },
  {
   "cell_type": "markdown",
   "id": "12fedc75-25a3-4201-a0da-367ad52f4773",
   "metadata": {},
   "source": [
    "These are some assertion statements for testing the total population of certain inputs. \n",
    "\n",
    "If allthe test cases pass, the final output should be \"All test cases have passed!\"\n",
    "\n",
    "While this is not an exhaustive list of assertion and edge cases, it handles the main functionality of what the project requires."
   ]
  },
  {
   "cell_type": "code",
   "execution_count": 196,
   "id": "170a8ef0-b639-4f12-8b59-77cd22155a7b",
   "metadata": {},
   "outputs": [
    {
     "name": "stdout",
     "output_type": "stream",
     "text": [
      "   Country  Year Age Range   Population\n",
      "0    World  2000     00-04  319947454.0\n",
      "1    World  2000     05-09  317085952.0\n",
      "2    World  2000     10-14  319870427.0\n",
      "3    World  2000     15-19  293445532.0\n",
      "4    World  2000     20-24  263094592.0\n",
      "5    World  2000     25-29  256458181.0\n",
      "6    World  2000     30-34  241585037.0\n",
      "7    World  2000     35-39  216703667.0\n",
      "8    World  2000     40-44  187436101.0\n",
      "9    World  2000     45-49  166501073.0\n",
      "10   World  2000     50-54  131738554.0\n",
      "11   World  2000     55-59  102296144.0\n",
      "12   World  2000     60-64   90035292.0\n",
      "13   World  2000     65-69   71463003.0\n",
      "14   World  2000     70-74   53316050.0\n",
      "15   World  2000     75-79   32840343.0\n",
      "16   World  2000     80-UP   25022711.0\n",
      "   Country  Year Age Range   Population\n",
      "0    World  2000     00-04  299176185.0\n",
      "1    World  2000     05-09  297917803.0\n",
      "2    World  2000     10-14  302850456.0\n",
      "3    World  2000     15-19  280015254.0\n",
      "4    World  2000     20-24  252662959.0\n",
      "5    World  2000     25-29  248149260.0\n",
      "6    World  2000     30-34  235168152.0\n",
      "7    World  2000     35-39  212545788.0\n",
      "8    World  2000     40-44  185210979.0\n",
      "9    World  2000     45-49  166483260.0\n",
      "10   World  2000     50-54  133190888.0\n",
      "11   World  2000     55-59  105259506.0\n",
      "12   World  2000     60-64   96389771.0\n",
      "13   World  2000     65-69   80630658.0\n",
      "14   World  2000     70-74   65710609.0\n",
      "15   World  2000     75-79   47015814.0\n",
      "16   World  2000     80-UP   47104089.0\n",
      "                    Country  Year Age Range  Population\n",
      "0  United States of America  1966     15-19   8516803.0\n",
      "1  United States of America  1966     20-24   6612829.0\n",
      "2  United States of America  1966     25-29   5789939.0\n",
      "                    Country  Year Age Range  Population\n",
      "0  United States of America  1966     15-19   8453028.0\n",
      "1  United States of America  1966     20-24   7132938.0\n",
      "2  United States of America  1966     25-29   5958834.0\n",
      "      Country  Year Age Range  Population\n",
      "0   Australia  1966     00-04    566883.0\n",
      "1   Australia  1966     05-09    572315.0\n",
      "2   Australia  1966     10-14    534336.0\n",
      "3   Australia  1966     15-19    511355.0\n",
      "4   Australia  1966     20-24    424462.0\n",
      "5   Australia  1966     25-29    364070.0\n",
      "6   Australia  1966     30-34    336952.0\n",
      "7   Australia  1966     35-39    368099.0\n",
      "8   Australia  1966     40-44    379941.0\n",
      "9   Australia  1966     45-49    336856.0\n",
      "10  Australia  1966     50-54    319988.0\n",
      "11  Australia  1966     55-59    268382.0\n",
      "12  Australia  1966     60-64    220594.0\n",
      "13  Australia  1966     65-69    194903.0\n",
      "14  Australia  1966     70-74    162305.0\n",
      "15  Australia  1966     75-79    117133.0\n",
      "16  Australia  1966     80-UP    106446.0\n",
      "   Country  Year Age Range  Population\n",
      "0    China  2002     00-04  43912190.0\n",
      "1    China  2002     05-09  48413442.0\n",
      "2    China  2002     10-14  63435759.0\n",
      "3    China  2002     15-19  58533916.0\n",
      "4    China  2002     20-24  51100603.0\n",
      "5    China  2002     25-29  55383221.0\n",
      "6    China  2002     30-34  65505826.0\n",
      "7    China  2002     35-39  61719463.0\n",
      "8    China  2002     40-44  38781702.0\n",
      "9    China  2002     45-49  44581982.0\n",
      "10   China  2002     50-54  35131636.0\n",
      "11   China  2002     55-59  24567438.0\n",
      "12   China  2002     60-64  20733525.0\n",
      "13   China  2002     65-69  17669786.0\n",
      "14   China  2002     70-74  12487584.0\n",
      "15   China  2002     75-79   7704976.0\n",
      "16   China  2002     80-UP   5201959.0\n",
      "All test cases have passed!\n"
     ]
    }
   ],
   "source": [
    "def population_testing():\n",
    "    \n",
    "    assert population(year=2000, sex='Male', age_range=(0, 100), location='WLD') > 0, \"Population should be greater than 0.\"\n",
    "    assert population(year=2000, sex='Female', age_range=(0, 100), location='WLD') < 7e9, \"Population should be less than 7 billion.\"\n",
    "    assert population(year=1966, sex='Male', age_range=(18, 26), location='USA') < 21e6, \"Population should be less than 21 million.\"\n",
    "    assert population(year=1966, sex='Female', age_range=(18, 26), location='USA') > 21e6, \"Population should be greater than 21 million.\"\n",
    "    assert population(year=1966, sex='Female', age_range=(3, 89), location='Australia') < 6e6, \"Population should be less than 6 million.\"\n",
    "    assert population(year=2002, sex='Male', age_range=(0, 200), location='China') > 6e7, \"Population should be greater than 600 million.\"\n",
    "    \n",
    "    print(\"All test cases have passed!\")\n",
    "\n",
    "population_testing()"
   ]
  },
  {
   "cell_type": "code",
   "execution_count": null,
   "id": "0ce7b228-207d-4edd-a96c-6f0238f65d19",
   "metadata": {},
   "outputs": [],
   "source": []
  }
 ],
 "metadata": {
  "kernelspec": {
   "display_name": "Python 3 (ipykernel)",
   "language": "python",
   "name": "python3"
  },
  "language_info": {
   "codemirror_mode": {
    "name": "ipython",
    "version": 3
   },
   "file_extension": ".py",
   "mimetype": "text/x-python",
   "name": "python",
   "nbconvert_exporter": "python",
   "pygments_lexer": "ipython3",
   "version": "3.9.15"
  }
 },
 "nbformat": 4,
 "nbformat_minor": 5
}
